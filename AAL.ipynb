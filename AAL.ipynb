{
 "cells": [
  {
   "cell_type": "code",
   "execution_count": 245,
   "metadata": {},
   "outputs": [],
   "source": [
    "import pandas as pd\n",
    "import matplotlib.pyplot as plt\n",
    "import seaborn as sns\n",
    "import openpyxl\n",
    "import numpy as np\n"
   ]
  },
  {
   "cell_type": "code",
   "execution_count": 246,
   "metadata": {},
   "outputs": [],
   "source": [
    "df = pd.read_excel(r'/Users/Ash/Desktop/dataAnalisisProject/1688639662_ausapparalsales4thqrt2020.xlsx')\n"
   ]
  },
  {
   "cell_type": "code",
   "execution_count": 247,
   "metadata": {},
   "outputs": [
    {
     "data": {
      "text/html": [
       "<div>\n",
       "<style scoped>\n",
       "    .dataframe tbody tr th:only-of-type {\n",
       "        vertical-align: middle;\n",
       "    }\n",
       "\n",
       "    .dataframe tbody tr th {\n",
       "        vertical-align: top;\n",
       "    }\n",
       "\n",
       "    .dataframe thead th {\n",
       "        text-align: right;\n",
       "    }\n",
       "</style>\n",
       "<table border=\"1\" class=\"dataframe\">\n",
       "  <thead>\n",
       "    <tr style=\"text-align: right;\">\n",
       "      <th></th>\n",
       "      <th>Date</th>\n",
       "      <th>Time</th>\n",
       "      <th>State</th>\n",
       "      <th>Group</th>\n",
       "      <th>Unit</th>\n",
       "      <th>Sales</th>\n",
       "    </tr>\n",
       "  </thead>\n",
       "  <tbody>\n",
       "    <tr>\n",
       "      <th>0</th>\n",
       "      <td>2020-10-01</td>\n",
       "      <td>Morning</td>\n",
       "      <td>WA</td>\n",
       "      <td>Kids</td>\n",
       "      <td>8</td>\n",
       "      <td>20000</td>\n",
       "    </tr>\n",
       "    <tr>\n",
       "      <th>1</th>\n",
       "      <td>2020-10-01</td>\n",
       "      <td>Morning</td>\n",
       "      <td>WA</td>\n",
       "      <td>Men</td>\n",
       "      <td>8</td>\n",
       "      <td>20000</td>\n",
       "    </tr>\n",
       "    <tr>\n",
       "      <th>2</th>\n",
       "      <td>2020-10-01</td>\n",
       "      <td>Morning</td>\n",
       "      <td>WA</td>\n",
       "      <td>Women</td>\n",
       "      <td>4</td>\n",
       "      <td>10000</td>\n",
       "    </tr>\n",
       "    <tr>\n",
       "      <th>3</th>\n",
       "      <td>2020-10-01</td>\n",
       "      <td>Morning</td>\n",
       "      <td>WA</td>\n",
       "      <td>Seniors</td>\n",
       "      <td>15</td>\n",
       "      <td>37500</td>\n",
       "    </tr>\n",
       "    <tr>\n",
       "      <th>4</th>\n",
       "      <td>2020-10-01</td>\n",
       "      <td>Afternoon</td>\n",
       "      <td>WA</td>\n",
       "      <td>Kids</td>\n",
       "      <td>3</td>\n",
       "      <td>7500</td>\n",
       "    </tr>\n",
       "    <tr>\n",
       "      <th>...</th>\n",
       "      <td>...</td>\n",
       "      <td>...</td>\n",
       "      <td>...</td>\n",
       "      <td>...</td>\n",
       "      <td>...</td>\n",
       "      <td>...</td>\n",
       "    </tr>\n",
       "    <tr>\n",
       "      <th>7555</th>\n",
       "      <td>2020-12-30</td>\n",
       "      <td>Afternoon</td>\n",
       "      <td>TAS</td>\n",
       "      <td>Seniors</td>\n",
       "      <td>14</td>\n",
       "      <td>35000</td>\n",
       "    </tr>\n",
       "    <tr>\n",
       "      <th>7556</th>\n",
       "      <td>2020-12-30</td>\n",
       "      <td>Evening</td>\n",
       "      <td>TAS</td>\n",
       "      <td>Kids</td>\n",
       "      <td>15</td>\n",
       "      <td>37500</td>\n",
       "    </tr>\n",
       "    <tr>\n",
       "      <th>7557</th>\n",
       "      <td>2020-12-30</td>\n",
       "      <td>Evening</td>\n",
       "      <td>TAS</td>\n",
       "      <td>Men</td>\n",
       "      <td>15</td>\n",
       "      <td>37500</td>\n",
       "    </tr>\n",
       "    <tr>\n",
       "      <th>7558</th>\n",
       "      <td>2020-12-30</td>\n",
       "      <td>Evening</td>\n",
       "      <td>TAS</td>\n",
       "      <td>Women</td>\n",
       "      <td>11</td>\n",
       "      <td>27500</td>\n",
       "    </tr>\n",
       "    <tr>\n",
       "      <th>7559</th>\n",
       "      <td>2020-12-30</td>\n",
       "      <td>Evening</td>\n",
       "      <td>TAS</td>\n",
       "      <td>Seniors</td>\n",
       "      <td>13</td>\n",
       "      <td>32500</td>\n",
       "    </tr>\n",
       "  </tbody>\n",
       "</table>\n",
       "<p>7560 rows × 6 columns</p>\n",
       "</div>"
      ],
      "text/plain": [
       "           Date        Time State     Group  Unit  Sales\n",
       "0    2020-10-01     Morning    WA      Kids     8  20000\n",
       "1    2020-10-01     Morning    WA       Men     8  20000\n",
       "2    2020-10-01     Morning    WA     Women     4  10000\n",
       "3    2020-10-01     Morning    WA   Seniors    15  37500\n",
       "4    2020-10-01   Afternoon    WA      Kids     3   7500\n",
       "...         ...         ...   ...       ...   ...    ...\n",
       "7555 2020-12-30   Afternoon   TAS   Seniors    14  35000\n",
       "7556 2020-12-30     Evening   TAS      Kids    15  37500\n",
       "7557 2020-12-30     Evening   TAS       Men    15  37500\n",
       "7558 2020-12-30     Evening   TAS     Women    11  27500\n",
       "7559 2020-12-30     Evening   TAS   Seniors    13  32500\n",
       "\n",
       "[7560 rows x 6 columns]"
      ]
     },
     "execution_count": 247,
     "metadata": {},
     "output_type": "execute_result"
    }
   ],
   "source": [
    "df"
   ]
  },
  {
   "cell_type": "code",
   "execution_count": 207,
   "metadata": {},
   "outputs": [
    {
     "name": "stdout",
     "output_type": "stream",
     "text": [
      "0         WA\n",
      "1         WA\n",
      "2         WA\n",
      "3         WA\n",
      "4         WA\n",
      "        ... \n",
      "7555     TAS\n",
      "7556     TAS\n",
      "7557     TAS\n",
      "7558     TAS\n",
      "7559     TAS\n",
      "Name: State, Length: 7560, dtype: object\n"
     ]
    }
   ],
   "source": [
    "print(df['State'] )"
   ]
  },
  {
   "cell_type": "code",
   "execution_count": 208,
   "metadata": {},
   "outputs": [
    {
     "data": {
      "text/html": [
       "<div>\n",
       "<style scoped>\n",
       "    .dataframe tbody tr th:only-of-type {\n",
       "        vertical-align: middle;\n",
       "    }\n",
       "\n",
       "    .dataframe tbody tr th {\n",
       "        vertical-align: top;\n",
       "    }\n",
       "\n",
       "    .dataframe thead th {\n",
       "        text-align: right;\n",
       "    }\n",
       "</style>\n",
       "<table border=\"1\" class=\"dataframe\">\n",
       "  <thead>\n",
       "    <tr style=\"text-align: right;\">\n",
       "      <th></th>\n",
       "      <th>Date</th>\n",
       "      <th>Time</th>\n",
       "      <th>State</th>\n",
       "      <th>Group</th>\n",
       "      <th>Unit</th>\n",
       "      <th>Sales</th>\n",
       "    </tr>\n",
       "  </thead>\n",
       "  <tbody>\n",
       "    <tr>\n",
       "      <th>0</th>\n",
       "      <td>2020-10-01</td>\n",
       "      <td>Morning</td>\n",
       "      <td>WA</td>\n",
       "      <td>Kids</td>\n",
       "      <td>8</td>\n",
       "      <td>20000</td>\n",
       "    </tr>\n",
       "    <tr>\n",
       "      <th>1</th>\n",
       "      <td>2020-10-01</td>\n",
       "      <td>Morning</td>\n",
       "      <td>WA</td>\n",
       "      <td>Men</td>\n",
       "      <td>8</td>\n",
       "      <td>20000</td>\n",
       "    </tr>\n",
       "    <tr>\n",
       "      <th>2</th>\n",
       "      <td>2020-10-01</td>\n",
       "      <td>Morning</td>\n",
       "      <td>WA</td>\n",
       "      <td>Women</td>\n",
       "      <td>4</td>\n",
       "      <td>10000</td>\n",
       "    </tr>\n",
       "    <tr>\n",
       "      <th>3</th>\n",
       "      <td>2020-10-01</td>\n",
       "      <td>Morning</td>\n",
       "      <td>WA</td>\n",
       "      <td>Seniors</td>\n",
       "      <td>15</td>\n",
       "      <td>37500</td>\n",
       "    </tr>\n",
       "    <tr>\n",
       "      <th>4</th>\n",
       "      <td>2020-10-01</td>\n",
       "      <td>Afternoon</td>\n",
       "      <td>WA</td>\n",
       "      <td>Kids</td>\n",
       "      <td>3</td>\n",
       "      <td>7500</td>\n",
       "    </tr>\n",
       "  </tbody>\n",
       "</table>\n",
       "</div>"
      ],
      "text/plain": [
       "        Date        Time State     Group  Unit  Sales\n",
       "0 2020-10-01     Morning    WA      Kids     8  20000\n",
       "1 2020-10-01     Morning    WA       Men     8  20000\n",
       "2 2020-10-01     Morning    WA     Women     4  10000\n",
       "3 2020-10-01     Morning    WA   Seniors    15  37500\n",
       "4 2020-10-01   Afternoon    WA      Kids     3   7500"
      ]
     },
     "execution_count": 208,
     "metadata": {},
     "output_type": "execute_result"
    }
   ],
   "source": [
    "df.head()"
   ]
  },
  {
   "cell_type": "code",
   "execution_count": 209,
   "metadata": {},
   "outputs": [
    {
     "name": "stdout",
     "output_type": "stream",
     "text": [
      "Missing values:\n",
      "Date     0\n",
      "Time     0\n",
      "State    0\n",
      "Group    0\n",
      "Unit     0\n",
      "Sales    0\n",
      "dtype: int64\n",
      "\n",
      "Non-missing values:\n",
      "Date     7560\n",
      "Time     7560\n",
      "State    7560\n",
      "Group    7560\n",
      "Unit     7560\n",
      "Sales    7560\n",
      "dtype: int64\n"
     ]
    }
   ],
   "source": [
    "missing_values = df.isna().sum()\n",
    "\n",
    "\n",
    "\n",
    "# Inspect the data for non-missing values\n",
    "non_missing_values = df.notna().sum()\n",
    "\n",
    "# Analyze the results\n",
    "print(\"Missing values:\")\n",
    "print(missing_values)\n",
    "\n",
    "print(\"\\nNon-missing values:\")\n",
    "print(non_missing_values)"
   ]
  },
  {
   "cell_type": "code",
   "execution_count": 210,
   "metadata": {},
   "outputs": [
    {
     "data": {
      "text/plain": [
       "Index(['Date', 'Time', 'State', 'Group', 'Unit', 'Sales'], dtype='object')"
      ]
     },
     "execution_count": 210,
     "metadata": {},
     "output_type": "execute_result"
    }
   ],
   "source": [
    "df.columns"
   ]
  },
  {
   "cell_type": "code",
   "execution_count": 211,
   "metadata": {},
   "outputs": [
    {
     "name": "stderr",
     "output_type": "stream",
     "text": [
      "/var/folders/y8/sxqdbfbx5hn4324ynvcvg8wr0000gp/T/ipykernel_59722/489627046.py:9: FutureWarning: DataFrame.applymap has been deprecated. Use DataFrame.map instead.\n",
      "  df = df.applymap(lambda x: x.strip() if isinstance(x, str) else x)\n"
     ]
    },
    {
     "data": {
      "text/html": [
       "<div>\n",
       "<style scoped>\n",
       "    .dataframe tbody tr th:only-of-type {\n",
       "        vertical-align: middle;\n",
       "    }\n",
       "\n",
       "    .dataframe tbody tr th {\n",
       "        vertical-align: top;\n",
       "    }\n",
       "\n",
       "    .dataframe thead th {\n",
       "        text-align: right;\n",
       "    }\n",
       "</style>\n",
       "<table border=\"1\" class=\"dataframe\">\n",
       "  <thead>\n",
       "    <tr style=\"text-align: right;\">\n",
       "      <th></th>\n",
       "      <th>Date</th>\n",
       "      <th>Time</th>\n",
       "      <th>State</th>\n",
       "      <th>Group</th>\n",
       "      <th>Unit</th>\n",
       "      <th>Sales</th>\n",
       "    </tr>\n",
       "  </thead>\n",
       "  <tbody>\n",
       "    <tr>\n",
       "      <th>0</th>\n",
       "      <td>2020-10-01</td>\n",
       "      <td>Morning</td>\n",
       "      <td>WA</td>\n",
       "      <td>Kids</td>\n",
       "      <td>8</td>\n",
       "      <td>20000</td>\n",
       "    </tr>\n",
       "    <tr>\n",
       "      <th>1</th>\n",
       "      <td>2020-10-01</td>\n",
       "      <td>Morning</td>\n",
       "      <td>WA</td>\n",
       "      <td>Men</td>\n",
       "      <td>8</td>\n",
       "      <td>20000</td>\n",
       "    </tr>\n",
       "    <tr>\n",
       "      <th>2</th>\n",
       "      <td>2020-10-01</td>\n",
       "      <td>Morning</td>\n",
       "      <td>WA</td>\n",
       "      <td>Women</td>\n",
       "      <td>4</td>\n",
       "      <td>10000</td>\n",
       "    </tr>\n",
       "    <tr>\n",
       "      <th>3</th>\n",
       "      <td>2020-10-01</td>\n",
       "      <td>Morning</td>\n",
       "      <td>WA</td>\n",
       "      <td>Seniors</td>\n",
       "      <td>15</td>\n",
       "      <td>37500</td>\n",
       "    </tr>\n",
       "    <tr>\n",
       "      <th>4</th>\n",
       "      <td>2020-10-01</td>\n",
       "      <td>Afternoon</td>\n",
       "      <td>WA</td>\n",
       "      <td>Kids</td>\n",
       "      <td>3</td>\n",
       "      <td>7500</td>\n",
       "    </tr>\n",
       "    <tr>\n",
       "      <th>...</th>\n",
       "      <td>...</td>\n",
       "      <td>...</td>\n",
       "      <td>...</td>\n",
       "      <td>...</td>\n",
       "      <td>...</td>\n",
       "      <td>...</td>\n",
       "    </tr>\n",
       "    <tr>\n",
       "      <th>7555</th>\n",
       "      <td>2020-12-30</td>\n",
       "      <td>Afternoon</td>\n",
       "      <td>TAS</td>\n",
       "      <td>Seniors</td>\n",
       "      <td>14</td>\n",
       "      <td>35000</td>\n",
       "    </tr>\n",
       "    <tr>\n",
       "      <th>7556</th>\n",
       "      <td>2020-12-30</td>\n",
       "      <td>Evening</td>\n",
       "      <td>TAS</td>\n",
       "      <td>Kids</td>\n",
       "      <td>15</td>\n",
       "      <td>37500</td>\n",
       "    </tr>\n",
       "    <tr>\n",
       "      <th>7557</th>\n",
       "      <td>2020-12-30</td>\n",
       "      <td>Evening</td>\n",
       "      <td>TAS</td>\n",
       "      <td>Men</td>\n",
       "      <td>15</td>\n",
       "      <td>37500</td>\n",
       "    </tr>\n",
       "    <tr>\n",
       "      <th>7558</th>\n",
       "      <td>2020-12-30</td>\n",
       "      <td>Evening</td>\n",
       "      <td>TAS</td>\n",
       "      <td>Women</td>\n",
       "      <td>11</td>\n",
       "      <td>27500</td>\n",
       "    </tr>\n",
       "    <tr>\n",
       "      <th>7559</th>\n",
       "      <td>2020-12-30</td>\n",
       "      <td>Evening</td>\n",
       "      <td>TAS</td>\n",
       "      <td>Seniors</td>\n",
       "      <td>13</td>\n",
       "      <td>32500</td>\n",
       "    </tr>\n",
       "  </tbody>\n",
       "</table>\n",
       "<p>7560 rows × 6 columns</p>\n",
       "</div>"
      ],
      "text/plain": [
       "           Date       Time State    Group  Unit  Sales\n",
       "0    2020-10-01    Morning    WA     Kids     8  20000\n",
       "1    2020-10-01    Morning    WA      Men     8  20000\n",
       "2    2020-10-01    Morning    WA    Women     4  10000\n",
       "3    2020-10-01    Morning    WA  Seniors    15  37500\n",
       "4    2020-10-01  Afternoon    WA     Kids     3   7500\n",
       "...         ...        ...   ...      ...   ...    ...\n",
       "7555 2020-12-30  Afternoon   TAS  Seniors    14  35000\n",
       "7556 2020-12-30    Evening   TAS     Kids    15  37500\n",
       "7557 2020-12-30    Evening   TAS      Men    15  37500\n",
       "7558 2020-12-30    Evening   TAS    Women    11  27500\n",
       "7559 2020-12-30    Evening   TAS  Seniors    13  32500\n",
       "\n",
       "[7560 rows x 6 columns]"
      ]
     },
     "execution_count": 211,
     "metadata": {},
     "output_type": "execute_result"
    }
   ],
   "source": [
    "# df['Unit'] = df['Unit'].strip()\n",
    "# df['Unit'].unique()\n",
    "\n",
    "# df['Sales'] = df['Sales'].strip()\n",
    "# df['Sales'].unique()\n",
    "\n",
    "\n",
    "\n",
    "df = df.applymap(lambda x: x.strip() if isinstance(x, str) else x)\n",
    "\n",
    "df\n",
    "\n",
    "\n"
   ]
  },
  {
   "cell_type": "code",
   "execution_count": 2,
   "metadata": {},
   "outputs": [
    {
     "name": "stdout",
     "output_type": "stream",
     "text": [
      "['Group']\n"
     ]
    }
   ],
   "source": [
    "\n"
   ]
  },
  {
   "cell_type": "code",
   "execution_count": 213,
   "metadata": {},
   "outputs": [
    {
     "data": {
      "text/html": [
       "<div>\n",
       "<style scoped>\n",
       "    .dataframe tbody tr th:only-of-type {\n",
       "        vertical-align: middle;\n",
       "    }\n",
       "\n",
       "    .dataframe tbody tr th {\n",
       "        vertical-align: top;\n",
       "    }\n",
       "\n",
       "    .dataframe thead th {\n",
       "        text-align: right;\n",
       "    }\n",
       "</style>\n",
       "<table border=\"1\" class=\"dataframe\">\n",
       "  <thead>\n",
       "    <tr style=\"text-align: right;\">\n",
       "      <th></th>\n",
       "      <th>Date</th>\n",
       "      <th>Time</th>\n",
       "      <th>State</th>\n",
       "      <th>Group</th>\n",
       "      <th>Unit</th>\n",
       "      <th>Sales</th>\n",
       "      <th>Normalized_Sales</th>\n",
       "    </tr>\n",
       "  </thead>\n",
       "  <tbody>\n",
       "    <tr>\n",
       "      <th>0</th>\n",
       "      <td>2020-10-01</td>\n",
       "      <td>Morning</td>\n",
       "      <td>WA</td>\n",
       "      <td>Kids</td>\n",
       "      <td>8</td>\n",
       "      <td>20000</td>\n",
       "      <td>0.095238</td>\n",
       "    </tr>\n",
       "    <tr>\n",
       "      <th>1</th>\n",
       "      <td>2020-10-01</td>\n",
       "      <td>Morning</td>\n",
       "      <td>WA</td>\n",
       "      <td>Men</td>\n",
       "      <td>8</td>\n",
       "      <td>20000</td>\n",
       "      <td>0.095238</td>\n",
       "    </tr>\n",
       "    <tr>\n",
       "      <th>2</th>\n",
       "      <td>2020-10-01</td>\n",
       "      <td>Morning</td>\n",
       "      <td>WA</td>\n",
       "      <td>Women</td>\n",
       "      <td>4</td>\n",
       "      <td>10000</td>\n",
       "      <td>0.031746</td>\n",
       "    </tr>\n",
       "    <tr>\n",
       "      <th>3</th>\n",
       "      <td>2020-10-01</td>\n",
       "      <td>Morning</td>\n",
       "      <td>WA</td>\n",
       "      <td>Seniors</td>\n",
       "      <td>15</td>\n",
       "      <td>37500</td>\n",
       "      <td>0.206349</td>\n",
       "    </tr>\n",
       "    <tr>\n",
       "      <th>4</th>\n",
       "      <td>2020-10-01</td>\n",
       "      <td>Afternoon</td>\n",
       "      <td>WA</td>\n",
       "      <td>Kids</td>\n",
       "      <td>3</td>\n",
       "      <td>7500</td>\n",
       "      <td>0.015873</td>\n",
       "    </tr>\n",
       "  </tbody>\n",
       "</table>\n",
       "</div>"
      ],
      "text/plain": [
       "        Date       Time State    Group  Unit  Sales  Normalized_Sales\n",
       "0 2020-10-01    Morning    WA     Kids     8  20000          0.095238\n",
       "1 2020-10-01    Morning    WA      Men     8  20000          0.095238\n",
       "2 2020-10-01    Morning    WA    Women     4  10000          0.031746\n",
       "3 2020-10-01    Morning    WA  Seniors    15  37500          0.206349\n",
       "4 2020-10-01  Afternoon    WA     Kids     3   7500          0.015873"
      ]
     },
     "execution_count": 213,
     "metadata": {},
     "output_type": "execute_result"
    }
   ],
   "source": [
    "\n",
    "\n",
    "from sklearn.preprocessing import MinMaxScaler\n",
    "\n",
    "\n",
    "# Normalize the numeric columns\n",
    "\n",
    "# scaler = MinMaxScaler()\n",
    "\n",
    "# df2[['Unit', 'Sales']] = scaler.fit_transform(df[['Unit', 'Sales']])\n",
    "\n",
    "# Normalize ['Sales'] column\n",
    "\n",
    "df2 = df.copy()\n",
    "\n",
    "min_sales = df['Sales'].min()\n",
    "max_sales = df['Sales'].max()\n",
    "\n",
    "df2['Normalized_Sales'] = (df['Sales'] - min_sales) / (max_sales - min_sales)\n",
    "df2.head()\n",
    "\n",
    "\n"
   ]
  },
  {
   "cell_type": "code",
   "execution_count": 214,
   "metadata": {},
   "outputs": [
    {
     "data": {
      "text/html": [
       "<div>\n",
       "<style scoped>\n",
       "    .dataframe tbody tr th:only-of-type {\n",
       "        vertical-align: middle;\n",
       "    }\n",
       "\n",
       "    .dataframe tbody tr th {\n",
       "        vertical-align: top;\n",
       "    }\n",
       "\n",
       "    .dataframe thead th {\n",
       "        text-align: right;\n",
       "    }\n",
       "</style>\n",
       "<table border=\"1\" class=\"dataframe\">\n",
       "  <thead>\n",
       "    <tr style=\"text-align: right;\">\n",
       "      <th></th>\n",
       "      <th>Unit</th>\n",
       "      <th>Sales</th>\n",
       "      <th>Normalized_Sales</th>\n",
       "    </tr>\n",
       "  </thead>\n",
       "  <tbody>\n",
       "    <tr>\n",
       "      <th>Unit</th>\n",
       "      <td>1.0</td>\n",
       "      <td>1.0</td>\n",
       "      <td>1.0</td>\n",
       "    </tr>\n",
       "    <tr>\n",
       "      <th>Sales</th>\n",
       "      <td>1.0</td>\n",
       "      <td>1.0</td>\n",
       "      <td>1.0</td>\n",
       "    </tr>\n",
       "    <tr>\n",
       "      <th>Normalized_Sales</th>\n",
       "      <td>1.0</td>\n",
       "      <td>1.0</td>\n",
       "      <td>1.0</td>\n",
       "    </tr>\n",
       "  </tbody>\n",
       "</table>\n",
       "</div>"
      ],
      "text/plain": [
       "                  Unit  Sales  Normalized_Sales\n",
       "Unit               1.0    1.0               1.0\n",
       "Sales              1.0    1.0               1.0\n",
       "Normalized_Sales   1.0    1.0               1.0"
      ]
     },
     "execution_count": 214,
     "metadata": {},
     "output_type": "execute_result"
    }
   ],
   "source": [
    "df2.corr(numeric_only=True)\n",
    "\n"
   ]
  },
  {
   "cell_type": "code",
   "execution_count": 215,
   "metadata": {},
   "outputs": [
    {
     "data": {
      "text/html": [
       "<div>\n",
       "<style scoped>\n",
       "    .dataframe tbody tr th:only-of-type {\n",
       "        vertical-align: middle;\n",
       "    }\n",
       "\n",
       "    .dataframe tbody tr th {\n",
       "        vertical-align: top;\n",
       "    }\n",
       "\n",
       "    .dataframe thead th {\n",
       "        text-align: right;\n",
       "    }\n",
       "</style>\n",
       "<table border=\"1\" class=\"dataframe\">\n",
       "  <thead>\n",
       "    <tr style=\"text-align: right;\">\n",
       "      <th></th>\n",
       "      <th>Date</th>\n",
       "      <th>Time</th>\n",
       "      <th>State</th>\n",
       "      <th>Group</th>\n",
       "      <th>Unit</th>\n",
       "      <th>Sales</th>\n",
       "      <th>Normalized_Sales</th>\n",
       "      <th>Normalized_Units</th>\n",
       "    </tr>\n",
       "  </thead>\n",
       "  <tbody>\n",
       "    <tr>\n",
       "      <th>0</th>\n",
       "      <td>2020-10-01</td>\n",
       "      <td>Morning</td>\n",
       "      <td>WA</td>\n",
       "      <td>Kids</td>\n",
       "      <td>8</td>\n",
       "      <td>20000</td>\n",
       "      <td>0.095238</td>\n",
       "      <td>0.095238</td>\n",
       "    </tr>\n",
       "    <tr>\n",
       "      <th>1</th>\n",
       "      <td>2020-10-01</td>\n",
       "      <td>Morning</td>\n",
       "      <td>WA</td>\n",
       "      <td>Men</td>\n",
       "      <td>8</td>\n",
       "      <td>20000</td>\n",
       "      <td>0.095238</td>\n",
       "      <td>0.095238</td>\n",
       "    </tr>\n",
       "    <tr>\n",
       "      <th>2</th>\n",
       "      <td>2020-10-01</td>\n",
       "      <td>Morning</td>\n",
       "      <td>WA</td>\n",
       "      <td>Women</td>\n",
       "      <td>4</td>\n",
       "      <td>10000</td>\n",
       "      <td>0.031746</td>\n",
       "      <td>0.031746</td>\n",
       "    </tr>\n",
       "    <tr>\n",
       "      <th>3</th>\n",
       "      <td>2020-10-01</td>\n",
       "      <td>Morning</td>\n",
       "      <td>WA</td>\n",
       "      <td>Seniors</td>\n",
       "      <td>15</td>\n",
       "      <td>37500</td>\n",
       "      <td>0.206349</td>\n",
       "      <td>0.206349</td>\n",
       "    </tr>\n",
       "    <tr>\n",
       "      <th>4</th>\n",
       "      <td>2020-10-01</td>\n",
       "      <td>Afternoon</td>\n",
       "      <td>WA</td>\n",
       "      <td>Kids</td>\n",
       "      <td>3</td>\n",
       "      <td>7500</td>\n",
       "      <td>0.015873</td>\n",
       "      <td>0.015873</td>\n",
       "    </tr>\n",
       "  </tbody>\n",
       "</table>\n",
       "</div>"
      ],
      "text/plain": [
       "        Date       Time State    Group  Unit  Sales  Normalized_Sales  \\\n",
       "0 2020-10-01    Morning    WA     Kids     8  20000          0.095238   \n",
       "1 2020-10-01    Morning    WA      Men     8  20000          0.095238   \n",
       "2 2020-10-01    Morning    WA    Women     4  10000          0.031746   \n",
       "3 2020-10-01    Morning    WA  Seniors    15  37500          0.206349   \n",
       "4 2020-10-01  Afternoon    WA     Kids     3   7500          0.015873   \n",
       "\n",
       "   Normalized_Units  \n",
       "0          0.095238  \n",
       "1          0.095238  \n",
       "2          0.031746  \n",
       "3          0.206349  \n",
       "4          0.015873  "
      ]
     },
     "execution_count": 215,
     "metadata": {},
     "output_type": "execute_result"
    }
   ],
   "source": [
    "min_unit = df['Unit'].min()\n",
    "max_unit = df['Unit'].max()\n",
    "df2['Normalized_Units'] = (df['Unit'] - min_unit) / (max_unit - min_unit)\n",
    "df2.head()\n"
   ]
  },
  {
   "cell_type": "code",
   "execution_count": 216,
   "metadata": {},
   "outputs": [
    {
     "data": {
      "text/html": [
       "<div>\n",
       "<style scoped>\n",
       "    .dataframe tbody tr th:only-of-type {\n",
       "        vertical-align: middle;\n",
       "    }\n",
       "\n",
       "    .dataframe tbody tr th {\n",
       "        vertical-align: top;\n",
       "    }\n",
       "\n",
       "    .dataframe thead th {\n",
       "        text-align: right;\n",
       "    }\n",
       "</style>\n",
       "<table border=\"1\" class=\"dataframe\">\n",
       "  <thead>\n",
       "    <tr style=\"text-align: right;\">\n",
       "      <th></th>\n",
       "      <th>Sales</th>\n",
       "    </tr>\n",
       "    <tr>\n",
       "      <th>Time</th>\n",
       "      <th></th>\n",
       "    </tr>\n",
       "  </thead>\n",
       "  <tbody>\n",
       "    <tr>\n",
       "      <th>Afternoon</th>\n",
       "      <td>45241.071429</td>\n",
       "    </tr>\n",
       "    <tr>\n",
       "      <th>Evening</th>\n",
       "      <td>44479.166667</td>\n",
       "    </tr>\n",
       "    <tr>\n",
       "      <th>Morning</th>\n",
       "      <td>45320.436508</td>\n",
       "    </tr>\n",
       "  </tbody>\n",
       "</table>\n",
       "</div>"
      ],
      "text/plain": [
       "                  Sales\n",
       "Time                   \n",
       "Afternoon  45241.071429\n",
       "Evening    44479.166667\n",
       "Morning    45320.436508"
      ]
     },
     "execution_count": 216,
     "metadata": {},
     "output_type": "execute_result"
    }
   ],
   "source": [
    "# df.Date.unique()\n",
    "df[['Time', 'Sales']].groupby('Time').mean()"
   ]
  },
  {
   "cell_type": "code",
   "execution_count": 217,
   "metadata": {},
   "outputs": [
    {
     "data": {
      "text/plain": [
       "array(['Morning', 'Afternoon', 'Evening'], dtype=object)"
      ]
     },
     "execution_count": 217,
     "metadata": {},
     "output_type": "execute_result"
    }
   ],
   "source": [
    "df.Time.unique()"
   ]
  },
  {
   "cell_type": "code",
   "execution_count": 218,
   "metadata": {},
   "outputs": [
    {
     "data": {
      "text/plain": [
       "Group\n",
       "Kids       85072500\n",
       "Men        85750000\n",
       "Seniors    84037500\n",
       "Women      85442500\n",
       "Name: Sales, dtype: int64"
      ]
     },
     "execution_count": 218,
     "metadata": {},
     "output_type": "execute_result"
    }
   ],
   "source": [
    "group_sales = df.groupby('Group')['Sales'].sum()\n",
    "group_sales"
   ]
  },
  {
   "cell_type": "code",
   "execution_count": 219,
   "metadata": {},
   "outputs": [
    {
     "data": {
      "text/plain": [
       "State\n",
       "NSW     74970000\n",
       "NT      22580000\n",
       "QLD     33417500\n",
       "SA      58857500\n",
       "TAS     22760000\n",
       "VIC    105565000\n",
       "WA      22152500\n",
       "Name: Sales, dtype: int64"
      ]
     },
     "execution_count": 219,
     "metadata": {},
     "output_type": "execute_result"
    }
   ],
   "source": [
    "state_sales = df.groupby('State')['Sales'].sum()\n",
    "state_sales"
   ]
  },
  {
   "cell_type": "code",
   "execution_count": 220,
   "metadata": {},
   "outputs": [
    {
     "data": {
      "text/plain": [
       "State  Group  \n",
       "NSW    Kids       18587500\n",
       "       Men        19022500\n",
       "       Seniors    18187500\n",
       "       Women      19172500\n",
       "NT     Kids        5700000\n",
       "       Men         5762500\n",
       "       Seniors     5465000\n",
       "       Women       5652500\n",
       "QLD    Kids        8510000\n",
       "       Men         8392500\n",
       "       Seniors     8190000\n",
       "       Women       8325000\n",
       "SA     Kids       14515000\n",
       "       Men        14655000\n",
       "       Seniors    14717500\n",
       "       Women      14970000\n",
       "TAS    Kids        5775000\n",
       "       Men         5757500\n",
       "       Seniors     5650000\n",
       "       Women       5577500\n",
       "VIC    Kids       26360000\n",
       "       Men        26407500\n",
       "       Seniors    26315000\n",
       "       Women      26482500\n",
       "WA     Kids        5625000\n",
       "       Men         5752500\n",
       "       Seniors     5512500\n",
       "       Women       5262500\n",
       "Name: Sales, dtype: int64"
      ]
     },
     "execution_count": 220,
     "metadata": {},
     "output_type": "execute_result"
    }
   ],
   "source": [
    "state_group_sales = df.groupby(['State','Group'])['Sales'].sum()\n",
    "state_group_sales"
   ]
  },
  {
   "cell_type": "code",
   "execution_count": 221,
   "metadata": {},
   "outputs": [],
   "source": [
    "sales_mean = df['Sales'].mean()\n",
    "unit_mean = df['Unit'].mean()\n",
    "\n",
    "sales_median = df['Sales'].median()\n",
    "unit_median = df['Unit'].median()\n",
    "\n",
    "sales_mode = df['Sales'].mode()\n",
    "unit_mode = df['Unit'].mode()\n",
    "\n",
    "\n",
    "sales_std = df['Sales'].std()\n",
    "unit_std = df['Unit'].std()\n"
   ]
  },
  {
   "cell_type": "code",
   "execution_count": 222,
   "metadata": {},
   "outputs": [
    {
     "name": "stdout",
     "output_type": "stream",
     "text": [
      "Highest Sales Group: Men\n",
      "Lowest Sales Group: Seniors\n",
      "Highest Sales State: VIC\n",
      "Lowest Sales State: WA\n"
     ]
    }
   ],
   "source": [
    "\n",
    "\n",
    "group_sales = df.groupby('Group')['Sales'].sum()\n",
    "highest_sales_group = group_sales.idxmax()\n",
    "lowest_sales_group = group_sales.idxmin()\n",
    "\n",
    "state_sales = df.groupby('State')['Sales'].sum()\n",
    "highest_sales_state = state_sales.idxmax()\n",
    "lowest_sales_state = state_sales.idxmin()\n",
    "\n",
    "print(f\"Highest Sales Group: {highest_sales_group}\")\n",
    "print(f\"Lowest Sales Group: {lowest_sales_group}\")\n",
    "print(f\"Highest Sales State: {highest_sales_state}\")\n",
    "print(f\"Lowest Sales State: {lowest_sales_state}\")\n"
   ]
  },
  {
   "cell_type": "code",
   "execution_count": 223,
   "metadata": {},
   "outputs": [
    {
     "name": "stdout",
     "output_type": "stream",
     "text": [
      "Weekly Report:\n",
      "                                                          Time  \\\n",
      "Date                                                            \n",
      "2020-10-05  Morning, Morning, Morning, Morning, Afternoon,...   \n",
      "2020-10-12  Morning, Morning, Morning, Morning, Afternoon,...   \n",
      "2020-10-19  Morning, Morning, Morning, Morning, Afternoon,...   \n",
      "2020-10-26  Morning, Morning, Morning, Morning, Afternoon,...   \n",
      "2020-11-02  Morning, Morning, Morning, Morning, Afternoon,...   \n",
      "2020-11-09  Morning, Morning, Morning, Morning, Afternoon,...   \n",
      "2020-11-16  Morning, Morning, Morning, Morning, Afternoon,...   \n",
      "2020-11-23  Morning, Morning, Morning, Morning, Afternoon,...   \n",
      "2020-11-30  Morning, Morning, Morning, Morning, Afternoon,...   \n",
      "2020-12-07  Morning, Morning, Morning, Morning, Afternoon,...   \n",
      "2020-12-14  Morning, Morning, Morning, Morning, Afternoon,...   \n",
      "2020-12-21  Morning, Morning, Morning, Morning, Afternoon,...   \n",
      "2020-12-28  Morning, Morning, Morning, Morning, Afternoon,...   \n",
      "2021-01-04  Morning, Morning, Morning, Morning, Afternoon,...   \n",
      "\n",
      "                                                        State     Sales  \n",
      "Date                                                                     \n",
      "2020-10-05  WA, WA, WA, WA, WA, WA, WA, WA, WA, WA, WA, WA...  18907500  \n",
      "2020-10-12  WA, WA, WA, WA, WA, WA, WA, WA, WA, WA, WA, WA...  26935000  \n",
      "2020-10-19  WA, WA, WA, WA, WA, WA, WA, WA, WA, WA, WA, WA...  26805000  \n",
      "2020-10-26  WA, WA, WA, WA, WA, WA, WA, WA, WA, WA, WA, WA...  26590000  \n",
      "2020-11-02  WA, WA, WA, WA, WA, WA, WA, WA, WA, WA, WA, WA...  20797500  \n",
      "2020-11-09  WA, WA, WA, WA, WA, WA, WA, WA, WA, WA, WA, WA...  21065000  \n",
      "2020-11-16  WA, WA, WA, WA, WA, WA, WA, WA, WA, WA, WA, WA...  21242500  \n",
      "2020-11-23  WA, WA, WA, WA, WA, WA, WA, WA, WA, WA, WA, WA...  21187500  \n",
      "2020-11-30  WA, WA, WA, WA, WA, WA, WA, WA, WA, WA, WA, WA...  21442500  \n",
      "2020-12-07  WA, WA, WA, WA, WA, WA, WA, WA, WA, WA, WA, WA...  30817500  \n",
      "2020-12-14  WA, WA, WA, WA, WA, WA, WA, WA, WA, WA, WA, WA...  32060000  \n",
      "2020-12-21  WA, WA, WA, WA, WA, WA, WA, WA, WA, WA, WA, WA...  31247500  \n",
      "2020-12-28  WA, WA, WA, WA, WA, WA, WA, WA, WA, WA, WA, WA...  32007500  \n",
      "2021-01-04  WA, WA, WA, WA, WA, WA, WA, WA, WA, WA, WA, WA...   9197500  \n",
      "\n",
      "Monthly Report:\n",
      "                                                          Time  \\\n",
      "Date                                                            \n",
      "2020-10-31  Morning, Morning, Morning, Morning, Afternoon,...   \n",
      "2020-11-30  Morning, Morning, Morning, Morning, Afternoon,...   \n",
      "2020-12-31  Morning, Morning, Morning, Morning, Afternoon,...   \n",
      "\n",
      "                                                        State      Sales  \n",
      "Date                                                                      \n",
      "2020-10-31  WA, WA, WA, WA, WA, WA, WA, WA, WA, WA, WA, WA...  114290000  \n",
      "2020-11-30  WA, WA, WA, WA, WA, WA, WA, WA, WA, WA, WA, WA...   90682500  \n",
      "2020-12-31  WA, WA, WA, WA, WA, WA, WA, WA, WA, WA, WA, WA...  135330000  \n",
      "\n",
      "Quarterly Report:\n",
      "                                                          Time  \\\n",
      "Date                                                            \n",
      "2020-12-31  Morning, Morning, Morning, Morning, Afternoon,...   \n",
      "\n",
      "                                                        State      Sales  \n",
      "Date                                                                      \n",
      "2020-12-31  WA, WA, WA, WA, WA, WA, WA, WA, WA, WA, WA, WA...  340302500  \n"
     ]
    },
    {
     "name": "stderr",
     "output_type": "stream",
     "text": [
      "/var/folders/y8/sxqdbfbx5hn4324ynvcvg8wr0000gp/T/ipykernel_59722/1326656580.py:7: FutureWarning: 'M' is deprecated and will be removed in a future version, please use 'ME' instead.\n",
      "  monthly_sales = df.resample('M', on='Date').agg({'Time': ', '.join, 'State': ', '.join, 'Sales': 'sum'})\n",
      "/var/folders/y8/sxqdbfbx5hn4324ynvcvg8wr0000gp/T/ipykernel_59722/1326656580.py:10: FutureWarning: 'Q' is deprecated and will be removed in a future version, please use 'QE' instead.\n",
      "  quarterly_sales = df.resample('Q', on='Date').agg({'Time': ', '.join, 'State': ', '.join, 'Sales': 'sum'})\n"
     ]
    }
   ],
   "source": [
    "df['Date'] = pd.to_datetime(df['Date'])\n",
    "\n",
    "# Weekly report\n",
    "weekly_sales = df.resample('W-Mon', on='Date').agg({'Time': ', '.join, 'State': ', '.join, 'Sales': 'sum'})\n",
    "\n",
    "# Monthly report\n",
    "monthly_sales = df.resample('M', on='Date').agg({'Time': ', '.join, 'State': ', '.join, 'Sales': 'sum'})\n",
    "\n",
    "# Quarterly report\n",
    "quarterly_sales = df.resample('Q', on='Date').agg({'Time': ', '.join, 'State': ', '.join, 'Sales': 'sum'})\n",
    "# Print reports\n",
    "print(\"Weekly Report:\\n\", weekly_sales)\n",
    "print(\"\\nMonthly Report:\\n\", monthly_sales)\n",
    "print(\"\\nQuarterly Report:\\n\", quarterly_sales)\n"
   ]
  },
  {
   "cell_type": "code",
   "execution_count": 224,
   "metadata": {},
   "outputs": [],
   "source": [
    "# Concatenate all reports into a single dfFrame\n",
    "all_reports = pd.concat([weekly_sales, monthly_sales, quarterly_sales], axis=0)\n",
    "\n",
    "# Save all reports to a single Excel file\n",
    "all_reports.to_excel('all_reports.xlsx')\n"
   ]
  },
  {
   "cell_type": "code",
   "execution_count": 225,
   "metadata": {},
   "outputs": [
    {
     "data": {
      "text/plain": [
       "array(['Morning', 'Afternoon', 'Evening'], dtype=object)"
      ]
     },
     "execution_count": 225,
     "metadata": {},
     "output_type": "execute_result"
    }
   ],
   "source": [
    "df['Time'].unique()"
   ]
  },
  {
   "cell_type": "code",
   "execution_count": 226,
   "metadata": {},
   "outputs": [
    {
     "data": {
      "text/plain": [
       "array(['WA', 'NT', 'SA', 'VIC', 'QLD', 'NSW', 'TAS'], dtype=object)"
      ]
     },
     "execution_count": 226,
     "metadata": {},
     "output_type": "execute_result"
    }
   ],
   "source": [
    "df['State'].unique()"
   ]
  },
  {
   "cell_type": "code",
   "execution_count": 227,
   "metadata": {},
   "outputs": [
    {
     "data": {
      "image/png": "[encoded data removed]",
      "text/plain": [
       "<Figure size 1200x800 with 3 Axes>"
      ]
     },
     "metadata": {},
     "output_type": "display_data"
    }
   ],
   "source": [
    "# Convert 'State' column to categorical df type\n",
    "\n",
    "df['State'] = df['State'].astype('category')\n",
    "\n",
    "# Set figure size for plots\n",
    "plt.figure(figsize=(12, 8))\n",
    "\n",
    "# State-wise sales analysis for different groups\n",
    "plt.subplot(2, 2, 1)\n",
    "sns.barplot(data=df, x='State', y='Sales', hue='Group', estimator=sum)\n",
    "plt.title('State-wise Sales Analysis for Different Groups')\n",
    "plt.xlabel('State')\n",
    "plt.ylabel('Total Sales')\n",
    "\n",
    "# Group-wise sales analysis across different states\n",
    "plt.subplot(2, 2, 2)\n",
    "sns.barplot(data=df, x='Group', y='Sales', hue='State', estimator=sum)\n",
    "plt.title('Group-wise Sales Analysis Across Different States')\n",
    "plt.xlabel('Group')\n",
    "plt.ylabel('Total Sales')\n",
    "\n",
    "# Time-of-the-day analysis\n",
    "plt.subplot(2, 1, 2)\n",
    "sns.lineplot(data=df, x='Time', y='Sales', estimator=sum)\n",
    "plt.title('Time-of-the-Day Analysis')\n",
    "plt.xlabel('Time of Day')\n",
    "plt.ylabel('Total Sales')\n",
    "\n",
    "# Adjust layout\n",
    "plt.tight_layout()\n",
    "\n",
    "# Show the plot\n",
    "plt.show()"
   ]
  },
  {
   "cell_type": "code",
   "execution_count": 228,
   "metadata": {},
   "outputs": [
    {
     "data": {
      "text/plain": [
       "0       20000\n",
       "1       20000\n",
       "2       10000\n",
       "3       37500\n",
       "4        7500\n",
       "        ...  \n",
       "7555    35000\n",
       "7556    37500\n",
       "7557    37500\n",
       "7558    27500\n",
       "7559    32500\n",
       "Name: Sales, Length: 7560, dtype: int64"
      ]
     },
     "execution_count": 228,
     "metadata": {},
     "output_type": "execute_result"
    }
   ],
   "source": [
    "df[\"Sales\"]"
   ]
  },
  {
   "cell_type": "code",
   "execution_count": 229,
   "metadata": {},
   "outputs": [
    {
     "data": {
      "text/plain": [
       "114207500"
      ]
     },
     "execution_count": 229,
     "metadata": {},
     "output_type": "execute_result"
    }
   ],
   "source": [
    "df[df['Time'] == 'Morning']['Sales'].sum()"
   ]
  },
  {
   "cell_type": "code",
   "execution_count": 230,
   "metadata": {},
   "outputs": [
    {
     "data": {
      "text/plain": [
       "112087500"
      ]
     },
     "execution_count": 230,
     "metadata": {},
     "output_type": "execute_result"
    }
   ],
   "source": [
    "df[df['Time'] == 'Evening']['Sales'].sum()"
   ]
  },
  {
   "cell_type": "code",
   "execution_count": 231,
   "metadata": {},
   "outputs": [
    {
     "data": {
      "text/plain": [
       "114007500"
      ]
     },
     "execution_count": 231,
     "metadata": {},
     "output_type": "execute_result"
    }
   ],
   "source": [
    "df[df['Time'] == 'Afternoon']['Sales'].sum()"
   ]
  },
  {
   "cell_type": "code",
   "execution_count": 232,
   "metadata": {},
   "outputs": [
    {
     "data": {
      "image/png": "[encoded data removed]",
      "text/plain": [
       "<Figure size 1200x600 with 1 Axes>"
      ]
     },
     "metadata": {},
     "output_type": "display_data"
    },
    {
     "name": "stdout",
     "output_type": "stream",
     "text": [
      "Highest Sales Time: Evening\n",
      "Lowest Sales Time: Morning\n"
     ]
    }
   ],
   "source": [
    "# Time-of-the-day analysis\n",
    "plt.figure(figsize=(12, 6))\n",
    "sns.lineplot(data=df, x='Time', y='Sales')\n",
    "plt.title('Time-of-the-day sales analysis')\n",
    "plt.xlabel('Time of the day')\n",
    "plt.ylabel('Sales')\n",
    "plt.show()\n",
    "\n",
    "# Determine highest and lowest sales times\n",
    "highest_sales_time = df.loc[df['Sales'].idxmax()]['Time']\n",
    "\n",
    "lowest_sales_time = df.loc[df['Sales'].idxmin()]['Time']\n",
    "\n",
    "print(\"Highest Sales Time:\", highest_sales_time)\n",
    "print(\"Lowest Sales Time:\", lowest_sales_time)\n"
   ]
  },
  {
   "cell_type": "code",
   "execution_count": 248,
   "metadata": {},
   "outputs": [
    {
     "name": "stderr",
     "output_type": "stream",
     "text": [
      "/var/folders/y8/sxqdbfbx5hn4324ynvcvg8wr0000gp/T/ipykernel_59722/1591574441.py:10: FutureWarning: 'M' is deprecated and will be removed in a future version, please use 'ME' instead.\n",
      "  monthly_sales = df.resample('M').sum()\n",
      "/var/folders/y8/sxqdbfbx5hn4324ynvcvg8wr0000gp/T/ipykernel_59722/1591574441.py:11: FutureWarning: 'Q' is deprecated and will be removed in a future version, please use 'QE' instead.\n",
      "  quarterly_sales = df.resample('Q').sum()\n"
     ]
    },
    {
     "data": {
      "image/png": "[encoded data removed]",
      "text/plain": [
       "<Figure size 1200x1600 with 4 Axes>"
      ]
     },
     "metadata": {},
     "output_type": "display_data"
    }
   ],
   "source": [
    "\n",
    "# Assuming df is your DataFrame containing the sales data\n",
    "\n",
    "# Preprocess data\n",
    "df['Date'] = pd.to_datetime(df['Date'])\n",
    "df.set_index('Date', inplace=True)\n",
    "\n",
    "# Resample data\n",
    "daily_sales = df.resample('D').sum()\n",
    "weekly_sales = df.resample('W').sum()\n",
    "monthly_sales = df.resample('M').sum()\n",
    "quarterly_sales = df.resample('Q').sum()\n",
    "\n",
    "# Create dashboard\n",
    "fig, axs = plt.subplots(4, 1, figsize=(12, 16))\n",
    "\n",
    "# Daily sales plot\n",
    "sns.lineplot(data=daily_sales, ax=axs[0])\n",
    "axs[0].set_title('Daily Sales')\n",
    "axs[0].set_ylabel('Sales')\n",
    "\n",
    "# Weekly sales plot\n",
    "sns.lineplot(data=weekly_sales, ax=axs[1])\n",
    "axs[1].set_title('Weekly Sales')\n",
    "axs[1].set_ylabel('Sales')\n",
    "\n",
    "# Monthly sales plot\n",
    "sns.lineplot(data=monthly_sales, ax=axs[2])\n",
    "axs[2].set_title('Monthly Sales')\n",
    "axs[2].set_ylabel('Sales')\n",
    "\n",
    "# Quarterly sales plot\n",
    "sns.lineplot(data=quarterly_sales, ax=axs[3])\n",
    "axs[3].set_title('Quarterly Sales')\n",
    "axs[3].set_ylabel('Sales')\n",
    "\n",
    "# Adjust layout\n",
    "fig.tight_layout()\n",
    "\n",
    "# Show dashboard\n",
    "plt.show()\n"
   ]
  },
  {
   "cell_type": "code",
   "execution_count": null,
   "metadata": {},
   "outputs": [],
   "source": []
  },
  {
   "cell_type": "code",
   "execution_count": null,
   "metadata": {},
   "outputs": [
    {
     "data": {
      "text/html": [
       "<div>\n",
       "<style scoped>\n",
       "    .dataframe tbody tr th:only-of-type {\n",
       "        vertical-align: middle;\n",
       "    }\n",
       "\n",
       "    .dataframe tbody tr th {\n",
       "        vertical-align: top;\n",
       "    }\n",
       "\n",
       "    .dataframe thead th {\n",
       "        text-align: right;\n",
       "    }\n",
       "</style>\n",
       "<table border=\"1\" class=\"dataframe\">\n",
       "  <thead>\n",
       "    <tr style=\"text-align: right;\">\n",
       "      <th></th>\n",
       "      <th>Time</th>\n",
       "      <th>State</th>\n",
       "      <th>Group</th>\n",
       "      <th>Unit</th>\n",
       "      <th>Sales</th>\n",
       "    </tr>\n",
       "    <tr>\n",
       "      <th>Date</th>\n",
       "      <th></th>\n",
       "      <th></th>\n",
       "      <th></th>\n",
       "      <th></th>\n",
       "      <th></th>\n",
       "    </tr>\n",
       "  </thead>\n",
       "  <tbody>\n",
       "    <tr>\n",
       "      <th>2020-10-01</th>\n",
       "      <td>Morning</td>\n",
       "      <td>WA</td>\n",
       "      <td>Kids</td>\n",
       "      <td>8</td>\n",
       "      <td>20000</td>\n",
       "    </tr>\n",
       "    <tr>\n",
       "      <th>2020-10-01</th>\n",
       "      <td>Morning</td>\n",
       "      <td>WA</td>\n",
       "      <td>Men</td>\n",
       "      <td>8</td>\n",
       "      <td>20000</td>\n",
       "    </tr>\n",
       "    <tr>\n",
       "      <th>2020-10-01</th>\n",
       "      <td>Morning</td>\n",
       "      <td>WA</td>\n",
       "      <td>Women</td>\n",
       "      <td>4</td>\n",
       "      <td>10000</td>\n",
       "    </tr>\n",
       "    <tr>\n",
       "      <th>2020-10-01</th>\n",
       "      <td>Morning</td>\n",
       "      <td>WA</td>\n",
       "      <td>Seniors</td>\n",
       "      <td>15</td>\n",
       "      <td>37500</td>\n",
       "    </tr>\n",
       "    <tr>\n",
       "      <th>2020-10-01</th>\n",
       "      <td>Afternoon</td>\n",
       "      <td>WA</td>\n",
       "      <td>Kids</td>\n",
       "      <td>3</td>\n",
       "      <td>7500</td>\n",
       "    </tr>\n",
       "  </tbody>\n",
       "</table>\n",
       "</div>"
      ],
      "text/plain": [
       "                 Time State    Group  Unit  Sales\n",
       "Date                                             \n",
       "2020-10-01    Morning    WA     Kids     8  20000\n",
       "2020-10-01    Morning    WA      Men     8  20000\n",
       "2020-10-01    Morning    WA    Women     4  10000\n",
       "2020-10-01    Morning    WA  Seniors    15  37500\n",
       "2020-10-01  Afternoon    WA     Kids     3   7500"
      ]
     },
     "execution_count": 201,
     "metadata": {},
     "output_type": "execute_result"
    }
   ],
   "source": [
    "df.head()"
   ]
  }
 ],
 "metadata": {
  "kernelspec": {
   "display_name": "ash",
   "language": "python",
   "name": "python3"
  },
  "language_info": {
   "codemirror_mode": {
    "name": "ipython",
    "version": 3
   },
   "file_extension": ".py",
   "mimetype": "text/x-python",
   "name": "python",
   "nbconvert_exporter": "python",
   "pygments_lexer": "ipython3",
   "version": "3.11.8"
  }
 },
 "nbformat": 4,
 "nbformat_minor": 2
}
